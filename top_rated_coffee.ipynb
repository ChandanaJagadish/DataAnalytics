{
  "nbformat": 4,
  "nbformat_minor": 0,
  "metadata": {
    "colab": {
      "provenance": [],
      "authorship_tag": "ABX9TyN2XZWkEFPOys/vhXSq2Wgf",
      "include_colab_link": true
    },
    "kernelspec": {
      "name": "python3",
      "display_name": "Python 3"
    },
    "language_info": {
      "name": "python"
    }
  },
  "cells": [
    {
      "cell_type": "markdown",
      "metadata": {
        "id": "view-in-github",
        "colab_type": "text"
      },
      "source": [
        "<a href=\"https://colab.research.google.com/github/ChandanaJagadish/DataAnalytics/blob/main/top_rated_coffee.ipynb\" target=\"_parent\"><img src=\"https://colab.research.google.com/assets/colab-badge.svg\" alt=\"Open In Colab\"/></a>"
      ]
    },
    {
      "cell_type": "markdown",
      "source": [
        "# Coffee Dataset Analysis\n",
        "**Project Overview**\n",
        "\n",
        "This project involves analyzing a coffee dataset containing information about various coffee samples, including their origins, ratings, and other attributes. The goal is to clean, explore, and analyze the data to uncover insights about coffee quality, origins, and trends."
      ],
      "metadata": {
        "id": "GckkTVp9d3Tn"
      }
    },
    {
      "cell_type": "markdown",
      "source": [
        "**Objective**\n",
        "\n",
        "The objective of this project is to analyze top-rated coffee products from around the world, clean and prepare the dataset for analysis, and build visual dashboards to uncover insights about coffee quality, pricing, and origin. The final goal is to identify trends such as whether higher-priced coffees tend to have higher quality scores, and to highlight countries producing the best-rated coffees.\n",
        "\n",
        "**Problem Statement**\n",
        "\n",
        "Coffee is one of the most consumed beverages globally, and quality can vary greatly depending on factors such as origin, processing, and price. Businesses, roasters, and coffee enthusiasts often need to know:\n",
        "\n",
        "Which countries produce the highest-scoring coffee?\n",
        "\n",
        "Is there a correlation between coffee price per ounce and its quality score?\n",
        "\n",
        "Which coffee origins and varieties dominate the top ratings?\n",
        "\n",
        "However, raw coffee data often contains inconsistencies, missing values, and unstructured formats (e.g., mixed units, text in numeric fields). This makes direct analysis challenging.\n",
        "This project addresses the problem by:\n",
        "\n",
        "1.Cleaning and standardizing the dataset (handling missing values, splitting mixed columns, converting units).\n",
        "\n",
        "2.Analyzing key patterns in coffee ratings, prices, and origins.\n",
        "\n",
        "3.Visualizing the findings through an interactive Power BI dashboard for easy interpretation."
      ],
      "metadata": {
        "id": "fGdEyRfrYOYt"
      }
    },
    {
      "cell_type": "markdown",
      "source": [
        "**Step 1: Loading the data**\n",
        "\n",
        "Import all the necessary libraries. The read_csv helps to read the csv file."
      ],
      "metadata": {
        "id": "3JTE42K4XUbl"
      }
    },
    {
      "cell_type": "code",
      "execution_count": null,
      "metadata": {
        "id": "r-0XyNsL4ai3"
      },
      "outputs": [],
      "source": [
        "import numpy as np\n",
        "import pandas as pd\n",
        "rf=pd.read_csv(\"/content/top-rated-coffee - Copy.csv\")"
      ]
    },
    {
      "cell_type": "markdown",
      "source": [
        "**Step 2: Check for the number of row and columns**"
      ],
      "metadata": {
        "id": "g78TWnoBXxga"
      }
    },
    {
      "cell_type": "code",
      "source": [
        "rf.shape"
      ],
      "metadata": {
        "colab": {
          "base_uri": "https://localhost:8080/"
        },
        "id": "FJlZ0IF74qXj",
        "outputId": "a3a78e54-5f6e-48e8-f82d-823657bd716e"
      },
      "execution_count": null,
      "outputs": [
        {
          "output_type": "execute_result",
          "data": {
            "text/plain": [
              "(2217, 7)"
            ]
          },
          "metadata": {},
          "execution_count": 4
        }
      ]
    },
    {
      "cell_type": "markdown",
      "source": [
        "The info() provides you all thee information about the data the count,datatype, columns etc.."
      ],
      "metadata": {
        "id": "biMai0O2X4e2"
      }
    },
    {
      "cell_type": "code",
      "source": [
        "rf.info()"
      ],
      "metadata": {
        "colab": {
          "base_uri": "https://localhost:8080/"
        },
        "id": "hj19Kl5w4w_n",
        "outputId": "8479ba43-9b5d-4be6-942a-58c1f7c4f060"
      },
      "execution_count": null,
      "outputs": [
        {
          "output_type": "stream",
          "name": "stdout",
          "text": [
            "<class 'pandas.core.frame.DataFrame'>\n",
            "RangeIndex: 2217 entries, 0 to 2216\n",
            "Data columns (total 7 columns):\n",
            " #   Column            Non-Null Count  Dtype \n",
            "---  ------            --------------  ----- \n",
            " 0   coffee_name       2217 non-null   object\n",
            " 1   total_score       2217 non-null   object\n",
            " 2   roaster_location  2217 non-null   object\n",
            " 3   coffee_origin     2211 non-null   object\n",
            " 4   roast_level       2193 non-null   object\n",
            " 5   agtron            2217 non-null   object\n",
            " 6   est._price        2103 non-null   object\n",
            "dtypes: object(7)\n",
            "memory usage: 121.4+ KB\n"
          ]
        }
      ]
    },
    {
      "cell_type": "markdown",
      "source": [
        "**Step 3: Check for nulls and dropping it**"
      ],
      "metadata": {
        "id": "V28J_gI4ar0f"
      }
    },
    {
      "cell_type": "code",
      "source": [
        "rf['coffee_origin'].isnull()"
      ],
      "metadata": {
        "colab": {
          "base_uri": "https://localhost:8080/",
          "height": 458
        },
        "id": "B-UMxQbV4zTt",
        "outputId": "f4401acb-c983-4fd2-9412-dc6621f79f1a"
      },
      "execution_count": null,
      "outputs": [
        {
          "output_type": "execute_result",
          "data": {
            "text/plain": [
              "0       False\n",
              "1       False\n",
              "2       False\n",
              "3       False\n",
              "4       False\n",
              "        ...  \n",
              "2212     True\n",
              "2213     True\n",
              "2214     True\n",
              "2215     True\n",
              "2216     True\n",
              "Name: coffee_origin, Length: 2217, dtype: bool"
            ],
            "text/html": [
              "<div>\n",
              "<style scoped>\n",
              "    .dataframe tbody tr th:only-of-type {\n",
              "        vertical-align: middle;\n",
              "    }\n",
              "\n",
              "    .dataframe tbody tr th {\n",
              "        vertical-align: top;\n",
              "    }\n",
              "\n",
              "    .dataframe thead th {\n",
              "        text-align: right;\n",
              "    }\n",
              "</style>\n",
              "<table border=\"1\" class=\"dataframe\">\n",
              "  <thead>\n",
              "    <tr style=\"text-align: right;\">\n",
              "      <th></th>\n",
              "      <th>coffee_origin</th>\n",
              "    </tr>\n",
              "  </thead>\n",
              "  <tbody>\n",
              "    <tr>\n",
              "      <th>0</th>\n",
              "      <td>False</td>\n",
              "    </tr>\n",
              "    <tr>\n",
              "      <th>1</th>\n",
              "      <td>False</td>\n",
              "    </tr>\n",
              "    <tr>\n",
              "      <th>2</th>\n",
              "      <td>False</td>\n",
              "    </tr>\n",
              "    <tr>\n",
              "      <th>3</th>\n",
              "      <td>False</td>\n",
              "    </tr>\n",
              "    <tr>\n",
              "      <th>4</th>\n",
              "      <td>False</td>\n",
              "    </tr>\n",
              "    <tr>\n",
              "      <th>...</th>\n",
              "      <td>...</td>\n",
              "    </tr>\n",
              "    <tr>\n",
              "      <th>2212</th>\n",
              "      <td>True</td>\n",
              "    </tr>\n",
              "    <tr>\n",
              "      <th>2213</th>\n",
              "      <td>True</td>\n",
              "    </tr>\n",
              "    <tr>\n",
              "      <th>2214</th>\n",
              "      <td>True</td>\n",
              "    </tr>\n",
              "    <tr>\n",
              "      <th>2215</th>\n",
              "      <td>True</td>\n",
              "    </tr>\n",
              "    <tr>\n",
              "      <th>2216</th>\n",
              "      <td>True</td>\n",
              "    </tr>\n",
              "  </tbody>\n",
              "</table>\n",
              "<p>2217 rows × 1 columns</p>\n",
              "</div><br><label><b>dtype:</b> bool</label>"
            ]
          },
          "metadata": {},
          "execution_count": 6
        }
      ]
    },
    {
      "cell_type": "code",
      "source": [
        "rf.dropna(subset=['coffee_origin'], inplace=True)"
      ],
      "metadata": {
        "id": "-f7XGKAi6lMF"
      },
      "execution_count": null,
      "outputs": []
    },
    {
      "cell_type": "markdown",
      "source": [
        "Step 4: We know that as we are dealing with the countries we have to sepearte the countries name which can be extracted from the coffee_origin."
      ],
      "metadata": {
        "id": "5UUgE5uNa9Db"
      }
    },
    {
      "cell_type": "code",
      "source": [
        "rf['country']=rf['coffee_origin'].str.replace(r'\\s*;\\s*',',',regex=True)"
      ],
      "metadata": {
        "id": "tltxSjKc5s3A"
      },
      "execution_count": null,
      "outputs": []
    },
    {
      "cell_type": "code",
      "source": [
        "rf['country']"
      ],
      "metadata": {
        "colab": {
          "base_uri": "https://localhost:8080/",
          "height": 458
        },
        "id": "RljWpjHO5-N8",
        "outputId": "9d41debc-9588-415d-f60b-0abb5ede01b5"
      },
      "execution_count": null,
      "outputs": [
        {
          "output_type": "execute_result",
          "data": {
            "text/plain": [
              "0                            Quindio Department, Colombia\n",
              "1                            Quindio Department, Colombia\n",
              "2                                       Colombia,Ethiopia\n",
              "3                         Gimbo, Kaffa Province, Ethiopia\n",
              "4                Sidamo growing region, southern Ethiopia\n",
              "                              ...                        \n",
              "2207                                  South-central Kenya\n",
              "2208                                        Central Kenya\n",
              "2209                                  South-central Kenya\n",
              "2210    Huehuetenango growing region, north-central Gu...\n",
              "2211                                            Nicaragua\n",
              "Name: country, Length: 2211, dtype: object"
            ],
            "text/html": [
              "<div>\n",
              "<style scoped>\n",
              "    .dataframe tbody tr th:only-of-type {\n",
              "        vertical-align: middle;\n",
              "    }\n",
              "\n",
              "    .dataframe tbody tr th {\n",
              "        vertical-align: top;\n",
              "    }\n",
              "\n",
              "    .dataframe thead th {\n",
              "        text-align: right;\n",
              "    }\n",
              "</style>\n",
              "<table border=\"1\" class=\"dataframe\">\n",
              "  <thead>\n",
              "    <tr style=\"text-align: right;\">\n",
              "      <th></th>\n",
              "      <th>country</th>\n",
              "    </tr>\n",
              "  </thead>\n",
              "  <tbody>\n",
              "    <tr>\n",
              "      <th>0</th>\n",
              "      <td>Quindio Department, Colombia</td>\n",
              "    </tr>\n",
              "    <tr>\n",
              "      <th>1</th>\n",
              "      <td>Quindio Department, Colombia</td>\n",
              "    </tr>\n",
              "    <tr>\n",
              "      <th>2</th>\n",
              "      <td>Colombia,Ethiopia</td>\n",
              "    </tr>\n",
              "    <tr>\n",
              "      <th>3</th>\n",
              "      <td>Gimbo, Kaffa Province, Ethiopia</td>\n",
              "    </tr>\n",
              "    <tr>\n",
              "      <th>4</th>\n",
              "      <td>Sidamo growing region, southern Ethiopia</td>\n",
              "    </tr>\n",
              "    <tr>\n",
              "      <th>...</th>\n",
              "      <td>...</td>\n",
              "    </tr>\n",
              "    <tr>\n",
              "      <th>2207</th>\n",
              "      <td>South-central Kenya</td>\n",
              "    </tr>\n",
              "    <tr>\n",
              "      <th>2208</th>\n",
              "      <td>Central Kenya</td>\n",
              "    </tr>\n",
              "    <tr>\n",
              "      <th>2209</th>\n",
              "      <td>South-central Kenya</td>\n",
              "    </tr>\n",
              "    <tr>\n",
              "      <th>2210</th>\n",
              "      <td>Huehuetenango growing region, north-central Gu...</td>\n",
              "    </tr>\n",
              "    <tr>\n",
              "      <th>2211</th>\n",
              "      <td>Nicaragua</td>\n",
              "    </tr>\n",
              "  </tbody>\n",
              "</table>\n",
              "<p>2211 rows × 1 columns</p>\n",
              "</div><br><label><b>dtype:</b> object</label>"
            ]
          },
          "metadata": {},
          "execution_count": 9
        }
      ]
    },
    {
      "cell_type": "code",
      "source": [
        "rf['country'] = rf['coffee_origin'].str.strip().str.split(',').str[-1].str.strip()"
      ],
      "metadata": {
        "id": "VdBZk8Be6v4m"
      },
      "execution_count": null,
      "outputs": []
    },
    {
      "cell_type": "markdown",
      "source": [
        "**Step 5: Sort the values from highest to lowest.**"
      ],
      "metadata": {
        "id": "57_dUhwTbdTA"
      }
    },
    {
      "cell_type": "code",
      "source": [
        "rf.sort_values(by='total_score',ascending=False,inplace=True)"
      ],
      "metadata": {
        "id": "6bFVK0GF8ctM"
      },
      "execution_count": null,
      "outputs": []
    },
    {
      "cell_type": "markdown",
      "source": [
        "**Step 6: This coulde be one of the crucial steps**\n",
        "\n",
        "where we are dealing with the prices.So we do create a seperate column of the price and ounces by making all units to ounces and the find the price per ounce."
      ],
      "metadata": {
        "id": "PgI-kHZubxGX"
      }
    },
    {
      "cell_type": "code",
      "source": [
        "rf['est._price'].isnull().sum()"
      ],
      "metadata": {
        "colab": {
          "base_uri": "https://localhost:8080/"
        },
        "id": "ANw8pOhMFCWT",
        "outputId": "16c60de5-c58d-4bd7-fd7a-c48865ce0ed2"
      },
      "execution_count": null,
      "outputs": [
        {
          "output_type": "execute_result",
          "data": {
            "text/plain": [
              "np.int64(109)"
            ]
          },
          "metadata": {},
          "execution_count": 15
        }
      ]
    },
    {
      "cell_type": "code",
      "source": [
        "rf.dropna(subset=['est._price'],inplace=True)\n",
        "rf['est._price']"
      ],
      "metadata": {
        "id": "JXv3vYS5FlXZ",
        "colab": {
          "base_uri": "https://localhost:8080/",
          "height": 458
        },
        "outputId": "d65bc65c-1be5-4c8a-dcaa-457b59f26b3e"
      },
      "execution_count": null,
      "outputs": [
        {
          "output_type": "execute_result",
          "data": {
            "text/plain": [
              "496        $20.00/8 ounces\n",
              "1336      $100.00/21 grams\n",
              "398     NT$ 2,500/20 grams\n",
              "1150       $50.00/4 ounces\n",
              "149        $99.95/8 ounces\n",
              "               ...        \n",
              "952       $27.00/12 ounces\n",
              "948        $24.95/4 ounces\n",
              "947       $24.95/12 ounces\n",
              "945       $18.95/12 ounces\n",
              "944        $29.99/5 ounces\n",
              "Name: est._price, Length: 2102, dtype: object"
            ],
            "text/html": [
              "<div>\n",
              "<style scoped>\n",
              "    .dataframe tbody tr th:only-of-type {\n",
              "        vertical-align: middle;\n",
              "    }\n",
              "\n",
              "    .dataframe tbody tr th {\n",
              "        vertical-align: top;\n",
              "    }\n",
              "\n",
              "    .dataframe thead th {\n",
              "        text-align: right;\n",
              "    }\n",
              "</style>\n",
              "<table border=\"1\" class=\"dataframe\">\n",
              "  <thead>\n",
              "    <tr style=\"text-align: right;\">\n",
              "      <th></th>\n",
              "      <th>est._price</th>\n",
              "    </tr>\n",
              "  </thead>\n",
              "  <tbody>\n",
              "    <tr>\n",
              "      <th>496</th>\n",
              "      <td>$20.00/8 ounces</td>\n",
              "    </tr>\n",
              "    <tr>\n",
              "      <th>1336</th>\n",
              "      <td>$100.00/21 grams</td>\n",
              "    </tr>\n",
              "    <tr>\n",
              "      <th>398</th>\n",
              "      <td>NT$ 2,500/20 grams</td>\n",
              "    </tr>\n",
              "    <tr>\n",
              "      <th>1150</th>\n",
              "      <td>$50.00/4 ounces</td>\n",
              "    </tr>\n",
              "    <tr>\n",
              "      <th>149</th>\n",
              "      <td>$99.95/8 ounces</td>\n",
              "    </tr>\n",
              "    <tr>\n",
              "      <th>...</th>\n",
              "      <td>...</td>\n",
              "    </tr>\n",
              "    <tr>\n",
              "      <th>952</th>\n",
              "      <td>$27.00/12 ounces</td>\n",
              "    </tr>\n",
              "    <tr>\n",
              "      <th>948</th>\n",
              "      <td>$24.95/4 ounces</td>\n",
              "    </tr>\n",
              "    <tr>\n",
              "      <th>947</th>\n",
              "      <td>$24.95/12 ounces</td>\n",
              "    </tr>\n",
              "    <tr>\n",
              "      <th>945</th>\n",
              "      <td>$18.95/12 ounces</td>\n",
              "    </tr>\n",
              "    <tr>\n",
              "      <th>944</th>\n",
              "      <td>$29.99/5 ounces</td>\n",
              "    </tr>\n",
              "  </tbody>\n",
              "</table>\n",
              "<p>2102 rows × 1 columns</p>\n",
              "</div><br><label><b>dtype:</b> object</label>"
            ]
          },
          "metadata": {},
          "execution_count": 16
        }
      ]
    },
    {
      "cell_type": "code",
      "source": [
        "rf['est._price'] = rf['est._price'].str.replace('oz.','ounces',regex=False)"
      ],
      "metadata": {
        "id": "6GKXEQsBTG1x"
      },
      "execution_count": null,
      "outputs": []
    },
    {
      "cell_type": "code",
      "source": [
        "df=rf.copy()\n",
        "df['est._price']=df['est._price'].astype(str)\n",
        "df['est._price']=df['est._price'].str.strip()\n",
        "df=df[df['est._price'].str.contains('/',na=False)]\n",
        "df[['prices_raw','ounces_raw']]=rf['est._price'].str.split('/',n=1,expand=True)\n",
        "df['price']=df['prices_raw'].str.replace(r'[^\\d.]','',regex=True)"
      ],
      "metadata": {
        "id": "FMl3-TeiGt5w"
      },
      "execution_count": null,
      "outputs": []
    },
    {
      "cell_type": "code",
      "source": [
        "def to_convert(ounces_raw):\n",
        "  # Extract only numeric part from the string\n",
        "  numeric_ounces = ''.join(filter(str.isdigit, ounces_raw))\n",
        "  if not numeric_ounces:\n",
        "    return None # Return None if no numeric part found\n",
        "\n",
        "  if 'grams' in ounces_raw:\n",
        "    grams=float(numeric_ounces)/28.3495\n",
        "    return grams\n",
        "  elif 'ounces' in ounces_raw or 'oz.'in 'ounces_raw': # Corrected variable name here\n",
        "    ounces=float(numeric_ounces)\n",
        "    return ounces\n",
        "  else:\n",
        "    return None\n",
        "df['ounces']=df['ounces_raw'].apply(to_convert)"
      ],
      "metadata": {
        "id": "EwpeyP2jVHhx"
      },
      "execution_count": null,
      "outputs": []
    },
    {
      "cell_type": "code",
      "source": [
        "rf=df.copy()"
      ],
      "metadata": {
        "id": "WqhLGm19m8x7"
      },
      "execution_count": null,
      "outputs": []
    },
    {
      "cell_type": "code",
      "source": [
        "rf['price_per_ounces']=rf['price'].astype(float)/rf['ounces']"
      ],
      "metadata": {
        "id": "dGMhAvY1qFqb"
      },
      "execution_count": null,
      "outputs": []
    },
    {
      "cell_type": "code",
      "source": [
        "rf['price_per_ounces']=rf['price_per_ounces'].sort_values(ascending=False)"
      ],
      "metadata": {
        "id": "nfsmafYJqqHB"
      },
      "execution_count": null,
      "outputs": []
    },
    {
      "cell_type": "markdown",
      "source": [
        "**Step 7: Splitting the agtron to a whole_bean and ground_bean**"
      ],
      "metadata": {
        "id": "ZKfN-OYrcVu9"
      }
    },
    {
      "cell_type": "code",
      "source": [
        "rf['agtron']=rf['agtron'].str.strip()\n",
        "rf[['agtron_whole','agtron_ground']]=rf['agtron'].str.split('/',expand=True)"
      ],
      "metadata": {
        "id": "gcFPaFCksZAN"
      },
      "execution_count": null,
      "outputs": []
    },
    {
      "cell_type": "markdown",
      "source": [
        "**Step 8: Download the modified file**"
      ],
      "metadata": {
        "id": "F_LD-QWcdKkp"
      }
    },
    {
      "cell_type": "code",
      "source": [
        "rf.to_csv(\"top_rated_coffee_clean.csv\",index=False)"
      ],
      "metadata": {
        "id": "XH8iPbwWuijD"
      },
      "execution_count": null,
      "outputs": []
    },
    {
      "cell_type": "code",
      "source": [
        "from google.colab import files\n",
        "files.download(\"top_rated_coffee_clean.csv\")"
      ],
      "metadata": {
        "colab": {
          "base_uri": "https://localhost:8080/",
          "height": 17
        },
        "id": "i1VySbdzvnvU",
        "outputId": "802dda37-d865-4899-ec0a-4bb3945f6526"
      },
      "execution_count": null,
      "outputs": [
        {
          "output_type": "display_data",
          "data": {
            "text/plain": [
              "<IPython.core.display.Javascript object>"
            ],
            "application/javascript": [
              "\n",
              "    async function download(id, filename, size) {\n",
              "      if (!google.colab.kernel.accessAllowed) {\n",
              "        return;\n",
              "      }\n",
              "      const div = document.createElement('div');\n",
              "      const label = document.createElement('label');\n",
              "      label.textContent = `Downloading \"${filename}\": `;\n",
              "      div.appendChild(label);\n",
              "      const progress = document.createElement('progress');\n",
              "      progress.max = size;\n",
              "      div.appendChild(progress);\n",
              "      document.body.appendChild(div);\n",
              "\n",
              "      const buffers = [];\n",
              "      let downloaded = 0;\n",
              "\n",
              "      const channel = await google.colab.kernel.comms.open(id);\n",
              "      // Send a message to notify the kernel that we're ready.\n",
              "      channel.send({})\n",
              "\n",
              "      for await (const message of channel.messages) {\n",
              "        // Send a message to notify the kernel that we're ready.\n",
              "        channel.send({})\n",
              "        if (message.buffers) {\n",
              "          for (const buffer of message.buffers) {\n",
              "            buffers.push(buffer);\n",
              "            downloaded += buffer.byteLength;\n",
              "            progress.value = downloaded;\n",
              "          }\n",
              "        }\n",
              "      }\n",
              "      const blob = new Blob(buffers, {type: 'application/binary'});\n",
              "      const a = document.createElement('a');\n",
              "      a.href = window.URL.createObjectURL(blob);\n",
              "      a.download = filename;\n",
              "      div.appendChild(a);\n",
              "      a.click();\n",
              "      div.remove();\n",
              "    }\n",
              "  "
            ]
          },
          "metadata": {}
        },
        {
          "output_type": "display_data",
          "data": {
            "text/plain": [
              "<IPython.core.display.Javascript object>"
            ],
            "application/javascript": [
              "download(\"download_ad768792-6f5c-474e-98ce-07d2f04095d0\", \"top_rated_coffee_clean.csv\", 398895)"
            ]
          },
          "metadata": {}
        }
      ]
    }
  ]
}